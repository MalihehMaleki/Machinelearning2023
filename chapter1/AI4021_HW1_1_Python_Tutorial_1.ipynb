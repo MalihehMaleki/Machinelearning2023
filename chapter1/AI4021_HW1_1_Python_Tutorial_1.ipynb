{
  "nbformat": 4,
  "nbformat_minor": 0,
  "metadata": {
    "colab": {
      "provenance": [],
      "include_colab_link": true
    },
    "kernelspec": {
      "name": "python3",
      "display_name": "Python 3"
    },
    "language_info": {
      "name": "python"
    }
  },
  "cells": [
    {
      "cell_type": "markdown",
      "metadata": {
        "id": "view-in-github",
        "colab_type": "text"
      },
      "source": [
        "<a href=\"https://colab.research.google.com/github/MalihehMaleki/Machinelearning2023/blob/main/chapter1/AI4021_HW1_1_Python_Tutorial_1.ipynb\" target=\"_parent\"><img src=\"https://colab.research.google.com/assets/colab-badge.svg\" alt=\"Open In Colab\"/></a>"
      ]
    },
    {
      "cell_type": "markdown",
      "source": [
        "**Question 1:** Write a Python program that asks the user for their age. If the age is greater than or equal to 18, print \"You are an adult.\" Otherwise, print \"You are a minor.\""
      ],
      "metadata": {
        "id": "6_vl9BFfOXWG"
      }
    },
    {
      "cell_type": "code",
      "source": [
        "age = int(input(\"please enter your age: \"))\n",
        "if age >= 18 :\n",
        "  print(\"you are an adult.\")\n",
        "else:\n",
        "  print(\"you are a minor.\")"
      ],
      "metadata": {
        "colab": {
          "base_uri": "https://localhost:8080/"
        },
        "id": "CAbJIkUPOcQs",
        "outputId": "fb9211b1-8477-44a4-ad10-95f61af6381a"
      },
      "execution_count": 6,
      "outputs": [
        {
          "output_type": "stream",
          "name": "stdout",
          "text": [
            "please enter your age: 20\n",
            "you are an adult.\n"
          ]
        }
      ]
    },
    {
      "cell_type": "markdown",
      "source": [
        "**Question 2:** Write a Python program to print the numbers from 1 to 10 using a for loop."
      ],
      "metadata": {
        "id": "r_W1sWoQOezD"
      }
    },
    {
      "cell_type": "code",
      "source": [
        "for x in range(1,11):\n",
        "  print(x)\n"
      ],
      "metadata": {
        "colab": {
          "base_uri": "https://localhost:8080/"
        },
        "id": "__o_-ZodOhbo",
        "outputId": "a2f05608-583b-465a-fde5-c2d6201dc761"
      },
      "execution_count": 7,
      "outputs": [
        {
          "output_type": "stream",
          "name": "stdout",
          "text": [
            "1\n",
            "2\n",
            "3\n",
            "4\n",
            "5\n",
            "6\n",
            "7\n",
            "8\n",
            "9\n",
            "10\n"
          ]
        }
      ]
    },
    {
      "cell_type": "markdown",
      "source": [
        "**Question 3:** Write a Python program to calculate the sum of all even numbers from 1 to 20 using a while loop."
      ],
      "metadata": {
        "id": "2q7OyBe_Oiud"
      }
    },
    {
      "cell_type": "code",
      "source": [
        "sum = 0\n",
        "x=1\n",
        "while x<21 :\n",
        "  if x%2 == 0:\n",
        "    sum = sum + x\n",
        "    x = x + 1\n",
        "  else:\n",
        "    x = x + 1\n",
        "print(\" sum of even number from 1 to 20: \",sum)"
      ],
      "metadata": {
        "colab": {
          "base_uri": "https://localhost:8080/"
        },
        "id": "r3uY0I6GOlB3",
        "outputId": "cf22ea94-c902-45d9-b1c2-f5ff6bd63934"
      },
      "execution_count": 10,
      "outputs": [
        {
          "output_type": "stream",
          "name": "stdout",
          "text": [
            " sum of even number from 1 to 20:  110\n"
          ]
        }
      ]
    },
    {
      "cell_type": "markdown",
      "source": [
        "**Question 4:** Define a function called multiply that takes two parameters and returns their product."
      ],
      "metadata": {
        "id": "YZprv77SOowG"
      }
    },
    {
      "cell_type": "code",
      "source": [
        "x = float(input(\"first number: \"))\n",
        "y = float(input(\"second number :\"))\n",
        "multiply = x * y\n",
        "print(\"product = \", multiply)"
      ],
      "metadata": {
        "id": "6Y0USeerOrUN",
        "outputId": "43819d2d-0ee5-4c4c-d4b6-31fb90ae374b",
        "colab": {
          "base_uri": "https://localhost:8080/"
        }
      },
      "execution_count": 12,
      "outputs": [
        {
          "output_type": "stream",
          "name": "stdout",
          "text": [
            "first number: 2.9\n",
            "second number :4.5\n",
            "product =  13.049999999999999\n"
          ]
        }
      ]
    },
    {
      "cell_type": "markdown",
      "source": [
        "**Question 5:** Create a class called Person with a constructor method that initializes the name and age attributes. Then, create an instance of the Person class and print the person's name and age."
      ],
      "metadata": {
        "id": "0GOwbOCPOtBN"
      }
    },
    {
      "cell_type": "code",
      "source": [
        "class Person:\n",
        "  def __init__(self,name,age):\n",
        "    self.name = name\n",
        "    self.age = age\n",
        "\n",
        "person1 = Person(\"Alice\",20)\n",
        "print(\"name: \",person1.name)\n",
        "print(\"age: \",person1.age)"
      ],
      "metadata": {
        "colab": {
          "base_uri": "https://localhost:8080/"
        },
        "id": "WcAY-oMeOv1v",
        "outputId": "9cfd7c77-85ac-4f10-f25a-483aff23e0ed"
      },
      "execution_count": 14,
      "outputs": [
        {
          "output_type": "stream",
          "name": "stdout",
          "text": [
            "name:  Alice\n",
            "age:  20\n"
          ]
        }
      ]
    },
    {
      "cell_type": "markdown",
      "source": [
        "**Question 6:** Create a subclass called `Student` that inherits from the `Person` class. Add an additional attribute called `student_id` to the `Student` class. Create an instance of the `Student` class and print the student's name, age, and student ID."
      ],
      "metadata": {
        "id": "JMq7nrdROxIF"
      }
    },
    {
      "cell_type": "code",
      "source": [
        "class Person:\n",
        "  def __init__(self,name,age):\n",
        "    self.name = name\n",
        "    self.age = age\n",
        "\n",
        "class Student(Person):\n",
        "  def __init__(self,name,age,student_id):\n",
        "    super().__init__(name,age)\n",
        "    self.student_id = student_id\n",
        "\n",
        "student1 = Student(\"Bob\",\"20\",\"12345\")\n",
        "print(\"name: \", student1.name)\n",
        "print(\"Age: \", student1.age)\n",
        "print(\"student ID: \", student1.student_id)"
      ],
      "metadata": {
        "colab": {
          "base_uri": "https://localhost:8080/"
        },
        "id": "vpEpTshwO8Xi",
        "outputId": "01264c3f-b79b-4ca0-f586-0735a40f25a3"
      },
      "execution_count": 18,
      "outputs": [
        {
          "output_type": "stream",
          "name": "stdout",
          "text": [
            "name:  Bob\n",
            "Age:  20\n",
            "student ID:  12345\n"
          ]
        }
      ]
    },
    {
      "cell_type": "markdown",
      "source": [
        "**Question 7:** Write a Python program that prompts the user to enter a number and then prints whether the number is prime or not. Create a function called `is_prime` that takes an integer as an argument and returns True if it's prime, and False otherwise."
      ],
      "metadata": {
        "id": "5TxkMVTOPIRF"
      }
    },
    {
      "cell_type": "code",
      "source": [
        "number = int(input(\"please enter your number: \"))\n",
        "accumulater = 0\n",
        "for i in range(1,number+1):\n",
        "  if number%i == 0:\n",
        "    accumulater = accumulater + 1\n",
        "if accumulater == 2:\n",
        "  print(number,\" is a prime number.\")\n",
        "else:\n",
        "  print(number,\" is not a prime number.\")"
      ],
      "metadata": {
        "colab": {
          "base_uri": "https://localhost:8080/"
        },
        "id": "UELQoZzKPNLm",
        "outputId": "1809418a-9e68-4950-d3da-d5d5f18cae29"
      },
      "execution_count": 20,
      "outputs": [
        {
          "output_type": "stream",
          "name": "stdout",
          "text": [
            "please enter your number: 18\n",
            "18  is not a prime number.\n"
          ]
        }
      ]
    },
    {
      "cell_type": "markdown",
      "source": [
        "**Question 8:** Write a Python program that calculates the factorial of a given number using a recursive function. Prompt the user for an integer input and print its factorial."
      ],
      "metadata": {
        "id": "HR0mHW5nPP-l"
      }
    },
    {
      "cell_type": "code",
      "source": [
        "number = int(input(\"enter an integer number: \"))\n",
        "factorial = 1\n",
        "for i in range(1,number+1):\n",
        "  factorial = factorial * i\n",
        "print(\" factorial of \",number,\" is \",factorial)"
      ],
      "metadata": {
        "colab": {
          "base_uri": "https://localhost:8080/"
        },
        "id": "gm5j51vlPS4y",
        "outputId": "99e78df4-72f9-4d96-c4db-4216101e784e"
      },
      "execution_count": 21,
      "outputs": [
        {
          "output_type": "stream",
          "name": "stdout",
          "text": [
            "enter an integer number: 10\n",
            " factorial of  10  is  3628800\n"
          ]
        }
      ]
    },
    {
      "cell_type": "markdown",
      "source": [
        "**Question 9:** Create a class called `Rectangle` with attributes `width` and `height`. Add a method `calculate_area` that calculates and returns the area of the rectangle. Create an instance of the `Rectangle` class and print its area."
      ],
      "metadata": {
        "id": "KgQI1zFkPcRb"
      }
    },
    {
      "cell_type": "code",
      "source": [
        "class Rectangle:\n",
        "  def __init__(self,width,height):\n",
        "    self.width = width\n",
        "    self.height = height\n",
        "  def calculate_area(self):\n",
        "    return self.width * self.height\n",
        "rectangle1 = Rectangle(4,10)\n",
        "area  = rectangle1.calculate_area()\n",
        "print(\"Area of the rectangle: \",area)"
      ],
      "metadata": {
        "colab": {
          "base_uri": "https://localhost:8080/"
        },
        "id": "S2yIbrGMPUHN",
        "outputId": "0ad4bf81-f860-49c6-eb4d-1fa1f70d69a4"
      },
      "execution_count": 22,
      "outputs": [
        {
          "output_type": "stream",
          "name": "stdout",
          "text": [
            "Area of the rectangle:  40\n"
          ]
        }
      ]
    },
    {
      "cell_type": "markdown",
      "source": [
        "**Question 10:** Create a subclass called `Square` that inherits from the `Rectangle` class. Add a method `calculate_perimeter` to the `Square` class that calculates and returns the perimeter of the square. Create an instance of the `Square` class and print its perimeter."
      ],
      "metadata": {
        "id": "hZJpUWXiPnUy"
      }
    },
    {
      "cell_type": "code",
      "source": [
        "class Rectangle:\n",
        "  def __init__(self,width,height):\n",
        "    self.width = width\n",
        "    self.height = height\n",
        "class Square(Rectangle):\n",
        "  def __init__(self,width,height):\n",
        "    super().__init__(width,height)\n",
        "  def calculate_perimeter(self):\n",
        "    return self.width * 4\n",
        "\n",
        "square1 = Square(4,4)\n",
        "perimeter = square1.calculate_perimeter()\n",
        "print(\" Perimeter of the square: \",perimeter)"
      ],
      "metadata": {
        "colab": {
          "base_uri": "https://localhost:8080/"
        },
        "id": "rrvDKau6Prgv",
        "outputId": "baa7a805-67e1-468a-84eb-234164fe7463"
      },
      "execution_count": 30,
      "outputs": [
        {
          "output_type": "stream",
          "name": "stdout",
          "text": [
            " Perimeter of the square:  16\n"
          ]
        }
      ]
    },
    {
      "cell_type": "markdown",
      "source": [
        "**Question 11:** Create a base class called `Animal` with attributes `name` and `species`. Provide a constructor to initialize these attributes and a method called `speak` that prints a generic message like \"The animal makes a sound.\""
      ],
      "metadata": {
        "id": "bAvC4oKdPySI"
      }
    },
    {
      "cell_type": "code",
      "source": [
        "class Animal:\n",
        "  def __init__(self,name,species):\n",
        "    self.name = name\n",
        "    self.species = species\n",
        "  def speak(self):\n",
        "    print(f\"{self.name} makes a sound\")"
      ],
      "metadata": {
        "id": "ReV5Ul0ZP-n7"
      },
      "execution_count": 2,
      "outputs": []
    },
    {
      "cell_type": "markdown",
      "source": [
        "**Question 12:** Create a subclass called `Dog` that inherits from the `Animal` class. Add a constructor to initialize the `name`, `species`, and `breed` attributes specific to dogs. Override the `speak` method in the `Dog` class to print \"Woof!\""
      ],
      "metadata": {
        "id": "B27SF_YbQANC"
      }
    },
    {
      "cell_type": "code",
      "source": [
        "class Animal:\n",
        "  def __init__(self,name,species):\n",
        "    self.name = name\n",
        "    self.species = species\n",
        "class Dog(Animal):\n",
        "  def __init__(self,name,species,breed):\n",
        "    super().__init__(name,species)\n",
        "    self.breed = breed\n",
        "  def speak(self):\n",
        "    print(f\"{self.name} the {self.breed} says woof!\")"
      ],
      "metadata": {
        "id": "3Gn8dy-QQIGA"
      },
      "execution_count": 3,
      "outputs": []
    },
    {
      "cell_type": "markdown",
      "source": [
        "**Question 13:** Create another subclass called `Cat` that inherits from the `Animal` class. Add a constructor to initialize the `name`, `species`, and `color` attributes specific to cats. Override the `speak` method in the `Cat` class to print \"Meow!\""
      ],
      "metadata": {
        "id": "evEYwP3GQKHU"
      }
    },
    {
      "cell_type": "code",
      "source": [
        "class Animal:\n",
        "  def __initi__(self,name,species):\n",
        "    self.name = name\n",
        "    self.species = species\n",
        "class Cat(Animal):\n",
        "  def __init__(self,name,species,color):\n",
        "    super().__init__(name,species)\n",
        "    self.color = color\n",
        "  def speak(self):\n",
        "    print(f\"{self.name} the {self.color} says Meow!\")"
      ],
      "metadata": {
        "id": "OOuq8AP2QT9W"
      },
      "execution_count": 4,
      "outputs": []
    },
    {
      "cell_type": "markdown",
      "source": [
        "**Question 14:** Create instances of both the `Dog` and `Cat` classes and call their `speak` methods to demonstrate polymorphism."
      ],
      "metadata": {
        "id": "FPiIuweTQU0D"
      }
    },
    {
      "cell_type": "code",
      "source": [
        "dog1 = Dog(\"Papy\",\"dog\",\"german shepherd\")\n",
        "cat1 = Cat(\"Pashmak\",\"cat\",\"black\")\n",
        "dog1.speak()\n",
        "cat1.speak()"
      ],
      "metadata": {
        "colab": {
          "base_uri": "https://localhost:8080/",
          "height": 349
        },
        "id": "YmUNsj72QZ4z",
        "outputId": "f31a3d88-4bd8-4eba-85dd-af40b992a4ae"
      },
      "execution_count": 5,
      "outputs": [
        {
          "output_type": "error",
          "ename": "TypeError",
          "evalue": "ignored",
          "traceback": [
            "\u001b[0;31m---------------------------------------------------------------------------\u001b[0m",
            "\u001b[0;31mTypeError\u001b[0m                                 Traceback (most recent call last)",
            "\u001b[0;32m<ipython-input-5-e771675ff918>\u001b[0m in \u001b[0;36m<cell line: 2>\u001b[0;34m()\u001b[0m\n\u001b[1;32m      1\u001b[0m \u001b[0mdog1\u001b[0m \u001b[0;34m=\u001b[0m \u001b[0mDog\u001b[0m\u001b[0;34m(\u001b[0m\u001b[0;34m\"Papy\"\u001b[0m\u001b[0;34m,\u001b[0m\u001b[0;34m\"dog\"\u001b[0m\u001b[0;34m,\u001b[0m\u001b[0;34m\"german shepherd\"\u001b[0m\u001b[0;34m)\u001b[0m\u001b[0;34m\u001b[0m\u001b[0;34m\u001b[0m\u001b[0m\n\u001b[0;32m----> 2\u001b[0;31m \u001b[0mcat1\u001b[0m \u001b[0;34m=\u001b[0m \u001b[0mCat\u001b[0m\u001b[0;34m(\u001b[0m\u001b[0;34m\"Pashmak\"\u001b[0m\u001b[0;34m,\u001b[0m\u001b[0;34m\"cat\"\u001b[0m\u001b[0;34m,\u001b[0m\u001b[0;34m\"black\"\u001b[0m\u001b[0;34m)\u001b[0m\u001b[0;34m\u001b[0m\u001b[0;34m\u001b[0m\u001b[0m\n\u001b[0m\u001b[1;32m      3\u001b[0m \u001b[0mdog1\u001b[0m\u001b[0;34m.\u001b[0m\u001b[0mspeak\u001b[0m\u001b[0;34m(\u001b[0m\u001b[0;34m)\u001b[0m\u001b[0;34m\u001b[0m\u001b[0;34m\u001b[0m\u001b[0m\n\u001b[1;32m      4\u001b[0m \u001b[0mcat1\u001b[0m\u001b[0;34m.\u001b[0m\u001b[0mspeak\u001b[0m\u001b[0;34m(\u001b[0m\u001b[0;34m)\u001b[0m\u001b[0;34m\u001b[0m\u001b[0;34m\u001b[0m\u001b[0m\n",
            "\u001b[0;32m<ipython-input-4-9eb184cd03a2>\u001b[0m in \u001b[0;36m__init__\u001b[0;34m(self, name, species, color)\u001b[0m\n\u001b[1;32m      5\u001b[0m \u001b[0;32mclass\u001b[0m \u001b[0mCat\u001b[0m\u001b[0;34m(\u001b[0m\u001b[0mAnimal\u001b[0m\u001b[0;34m)\u001b[0m\u001b[0;34m:\u001b[0m\u001b[0;34m\u001b[0m\u001b[0;34m\u001b[0m\u001b[0m\n\u001b[1;32m      6\u001b[0m   \u001b[0;32mdef\u001b[0m \u001b[0m__init__\u001b[0m\u001b[0;34m(\u001b[0m\u001b[0mself\u001b[0m\u001b[0;34m,\u001b[0m\u001b[0mname\u001b[0m\u001b[0;34m,\u001b[0m\u001b[0mspecies\u001b[0m\u001b[0;34m,\u001b[0m\u001b[0mcolor\u001b[0m\u001b[0;34m)\u001b[0m\u001b[0;34m:\u001b[0m\u001b[0;34m\u001b[0m\u001b[0;34m\u001b[0m\u001b[0m\n\u001b[0;32m----> 7\u001b[0;31m     \u001b[0msuper\u001b[0m\u001b[0;34m(\u001b[0m\u001b[0;34m)\u001b[0m\u001b[0;34m.\u001b[0m\u001b[0m__init__\u001b[0m\u001b[0;34m(\u001b[0m\u001b[0mname\u001b[0m\u001b[0;34m,\u001b[0m\u001b[0mspecies\u001b[0m\u001b[0;34m)\u001b[0m\u001b[0;34m\u001b[0m\u001b[0;34m\u001b[0m\u001b[0m\n\u001b[0m\u001b[1;32m      8\u001b[0m     \u001b[0mself\u001b[0m\u001b[0;34m.\u001b[0m\u001b[0mcolor\u001b[0m \u001b[0;34m=\u001b[0m \u001b[0mcolor\u001b[0m\u001b[0;34m\u001b[0m\u001b[0;34m\u001b[0m\u001b[0m\n\u001b[1;32m      9\u001b[0m   \u001b[0;32mdef\u001b[0m \u001b[0mspeak\u001b[0m\u001b[0;34m(\u001b[0m\u001b[0mself\u001b[0m\u001b[0;34m)\u001b[0m\u001b[0;34m:\u001b[0m\u001b[0;34m\u001b[0m\u001b[0;34m\u001b[0m\u001b[0m\n",
            "\u001b[0;31mTypeError\u001b[0m: object.__init__() takes exactly one argument (the instance to initialize)"
          ]
        }
      ]
    }
  ]
}